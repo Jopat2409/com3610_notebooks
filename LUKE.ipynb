{
  "nbformat": 4,
  "nbformat_minor": 0,
  "metadata": {
    "colab": {
      "provenance": [],
      "gpuType": "T4",
      "authorship_tag": "ABX9TyMeDC8UyQeQ8fKWFOhKB1Fi",
      "include_colab_link": true
    },
    "kernelspec": {
      "name": "python3",
      "display_name": "Python 3"
    },
    "language_info": {
      "name": "python"
    },
    "accelerator": "GPU"
  },
  "cells": [
    {
      "cell_type": "markdown",
      "metadata": {
        "id": "view-in-github",
        "colab_type": "text"
      },
      "source": [
        "<a href=\"https://colab.research.google.com/github/Jopat2409/com3610_notebooks/blob/main/LUKE.ipynb\" target=\"_parent\"><img src=\"https://colab.research.google.com/assets/colab-badge.svg\" alt=\"Open In Colab\"/></a>"
      ]
    },
    {
      "cell_type": "code",
      "source": [
        "%%capture\n",
        "!pip install seqeval\n",
        "!pip install transformers\n",
        "!pip install datasets"
      ],
      "metadata": {
        "collapsed": true,
        "id": "iv07sZsR-obG"
      },
      "execution_count": 1,
      "outputs": []
    },
    {
      "cell_type": "code",
      "source": [
        "import seqeval.metrics\n",
        "from transformers import AutoTokenizer, LukeForEntitySpanClassification, pipeline, LukeTokenizer\n",
        "from datasets import load_dataset, Dataset"
      ],
      "metadata": {
        "id": "pq21cNjCMRqY"
      },
      "execution_count": 2,
      "outputs": []
    },
    {
      "cell_type": "code",
      "source": [
        "TOKEN_TO_ID = {'O': 0, 'B-PER': 1, 'I-PER': 2, 'B-ORG': 3, 'I-ORG': 4, 'B-LOC': 5, 'I-LOC': 6, 'B-MISC': 7, 'I-MISC': 8}\n",
        "ID_TO_TOKEN = {v: k for k, v in TOKEN_TO_ID.items()}\n",
        "PIPELINE_KWARGS = {\"ignore_labels\": []}\n",
        "\n",
        "# The model to work on\n",
        "NER_MODEL = \"studio-ousia/luke-large-finetuned-conll-2003\""
      ],
      "metadata": {
        "id": "TgPukD0oNPRs"
      },
      "execution_count": 3,
      "outputs": []
    },
    {
      "cell_type": "code",
      "source": [
        "tokenizer = LukeTokenizer.from_pretrained(NER_MODEL)\n",
        "model = LukeForEntitySpanClassification.from_pretrained(NER_MODEL)\n"
      ],
      "metadata": {
        "colab": {
          "base_uri": "https://localhost:8080/"
        },
        "id": "Zz804M3aNXOc",
        "outputId": "1b70dfc6-0d49-4e5f-8a2f-62d0bbad6f41"
      },
      "execution_count": 4,
      "outputs": [
        {
          "output_type": "stream",
          "name": "stderr",
          "text": [
            "/usr/local/lib/python3.11/dist-packages/huggingface_hub/utils/_auth.py:94: UserWarning: \n",
            "The secret `HF_TOKEN` does not exist in your Colab secrets.\n",
            "To authenticate with the Hugging Face Hub, create a token in your settings tab (https://huggingface.co/settings/tokens), set it as secret in your Google Colab and restart your session.\n",
            "You will be able to reuse this secret in all of your notebooks.\n",
            "Please note that authentication is recommended but still optional to access public models or datasets.\n",
            "  warnings.warn(\n",
            "Some weights of the model checkpoint at studio-ousia/luke-large-finetuned-conll-2003 were not used when initializing LukeForEntitySpanClassification: ['luke.embeddings.position_ids']\n",
            "- This IS expected if you are initializing LukeForEntitySpanClassification from the checkpoint of a model trained on another task or with another architecture (e.g. initializing a BertForSequenceClassification model from a BertForPreTraining model).\n",
            "- This IS NOT expected if you are initializing LukeForEntitySpanClassification from the checkpoint of a model that you expect to be exactly identical (initializing a BertForSequenceClassification model from a BertForSequenceClassification model).\n"
          ]
        }
      ]
    },
    {
      "cell_type": "code",
      "source": [
        "def get_word_bounds(sentence: str):\n",
        "  first_word = next(i for i in range(len(sentence)) if sentence[i] != ' ')\n",
        "  spaces = [first_word + i for i, ch in enumerate(sentence[first_word:]) if ch==' ']\n",
        "  return [first_word] + [sp+1 for sp in spaces], spaces + [len(sentence)]"
      ],
      "metadata": {
        "id": "wBGwA-iAm88k"
      },
      "execution_count": 5,
      "outputs": []
    },
    {
      "cell_type": "markdown",
      "source": [
        "Run to double check that it aligns with the expected values from the LUKE\n",
        "\n",
        "![Screenshot 2025-02-18 195038.png](data:image/png;base64,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)"
      ],
      "metadata": {
        "id": "fpwyK6_hnER_"
      }
    },
    {
      "cell_type": "code",
      "source": [
        "print(get_word_bounds(\"Beyoncé lives in Los Angeles\"))"
      ],
      "metadata": {
        "colab": {
          "base_uri": "https://localhost:8080/"
        },
        "id": "PPwnGnPdnXPW",
        "outputId": "2d25fe03-539e-4c5b-98de-3d200861ec02"
      },
      "execution_count": 6,
      "outputs": [
        {
          "output_type": "stream",
          "name": "stdout",
          "text": [
            "([0, 8, 14, 17, 21], [7, 13, 16, 20, 28])\n"
          ]
        }
      ]
    },
    {
      "cell_type": "markdown",
      "source": [
        "Next we need to extract all of the possible entity spans of a certain length (128 as used in the LUKE example)"
      ],
      "metadata": {
        "id": "5yc3d1JrnizI"
      }
    },
    {
      "cell_type": "code",
      "source": [
        "def extract_entity_spans(sentence: str):\n",
        "  start_positions, end_positions = get_word_bounds(sentence)\n",
        "  return [(start, end) for i, start in enumerate(start_positions) for end in end_positions[i:] if end-start<=128]"
      ],
      "metadata": {
        "id": "w_M4BMt_nxMm"
      },
      "execution_count": 7,
      "outputs": []
    },
    {
      "cell_type": "code",
      "source": [
        "print(extract_entity_spans(\"Beyoncé lives in Los Angeles\"))"
      ],
      "metadata": {
        "colab": {
          "base_uri": "https://localhost:8080/"
        },
        "id": "IxX5wM_OoU1e",
        "outputId": "7dd87c2b-c7e5-4b18-bf01-3a3b990aab30"
      },
      "execution_count": 8,
      "outputs": [
        {
          "output_type": "stream",
          "name": "stdout",
          "text": [
            "[(0, 7), (0, 13), (0, 16), (0, 20), (0, 28), (8, 13), (8, 16), (8, 20), (8, 28), (14, 16), (14, 20), (14, 28), (17, 20), (17, 28), (21, 28)]\n"
          ]
        }
      ]
    },
    {
      "cell_type": "code",
      "source": [
        "data = load_dataset(\"conll2003\", split=\"test\")\n",
        "data_joined = data.map(lambda x: {\"tokens\": \" \".join(x[\"tokens\"])})\n",
        "\n",
        "json_tokenized = []\n",
        "for row in data_joined:\n",
        "  json_tokenized.append({**tokenizer(row['tokens'], entity_spans=extract_entity_spans(row['tokens']), return_tensors='pt')})\n"
      ],
      "metadata": {
        "id": "rla0a_KxoiwZ"
      },
      "execution_count": 9,
      "outputs": []
    },
    {
      "cell_type": "code",
      "source": [
        "\n",
        "logits = []\n",
        "\n",
        "for tok in json_tokenized:\n",
        "  logits.append(model(**tok))"
      ],
      "metadata": {
        "id": "NWtaS6wqwZI2"
      },
      "execution_count": null,
      "outputs": []
    }
  ]
}